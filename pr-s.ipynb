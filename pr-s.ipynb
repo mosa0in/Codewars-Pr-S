{
 "cells": [
  {
   "cell_type": "code",
   "execution_count": 1,
   "metadata": {},
   "outputs": [
    {
     "name": "stdout",
     "output_type": "stream",
     "text": [
      "battle no requires which that is victory greatest The\n",
      "battle no requires which that is victory greatest The\n"
     ]
    }
   ],
   "source": [
    "# ======================= 8 kyu Reversed Words ======================\n",
    "def reverse_words(s):\n",
    "    my_list = s.split(' ')\n",
    "    my_rev_list = my_list[::-1]\n",
    "    my_str_list = ' '.join(my_rev_list)\n",
    "    return my_str_list\n",
    "\n",
    "\n",
    "print(reverse_words(\"The greatest victory is that which requires no battle\"))\n",
    " \n",
    "# Example(Input --> Output):\n",
    "# \"The greatest victory is that which requires no battle\" --> \"battle no requires which that is victory greatest The\"\n",
    "\n",
    "def reverse_words(s):\n",
    "    return ' '.join(s.split()[::-1])\n",
    "\n",
    "print(reverse_words(\"The greatest victory is that which requires no battle\"))\n"
   ]
  }
 ],
 "metadata": {
  "kernelspec": {
   "display_name": "Python 3",
   "language": "python",
   "name": "python3"
  },
  "language_info": {
   "codemirror_mode": {
    "name": "ipython",
    "version": 3
   },
   "file_extension": ".py",
   "mimetype": "text/x-python",
   "name": "python",
   "nbconvert_exporter": "python",
   "pygments_lexer": "ipython3",
   "version": "3.12.4"
  }
 },
 "nbformat": 4,
 "nbformat_minor": 2
}
