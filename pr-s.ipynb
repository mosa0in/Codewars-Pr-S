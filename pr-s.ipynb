{
 "cells": [
  {
   "cell_type": "code",
   "execution_count": 1,
   "metadata": {},
   "outputs": [
    {
     "name": "stdout",
     "output_type": "stream",
     "text": [
      "battle no requires which that is victory greatest The\n",
      "battle no requires which that is victory greatest The\n"
     ]
    }
   ],
   "source": [
    "# ======================= 8 kyu Reversed Words ======================\n",
    "def reverse_words(s):\n",
    "    my_list = s.split(' ')\n",
    "    my_rev_list = my_list[::-1]\n",
    "    my_str_list = ' '.join(my_rev_list)\n",
    "    return my_str_list\n",
    "\n",
    "\n",
    "print(reverse_words(\"The greatest victory is that which requires no battle\"))\n",
    " \n",
    "# Example(Input --> Output):\n",
    "# \"The greatest victory is that which requires no battle\" --> \"battle no requires which that is victory greatest The\"\n",
    "\n",
    "def reverse_words(s):\n",
    "    return ' '.join(s.split()[::-1])\n",
    "\n",
    "print(reverse_words(\"The greatest victory is that which requires no battle\"))\n"
   ]
  },
  {
   "cell_type": "code",
   "execution_count": 2,
   "metadata": {},
   "outputs": [
    {
     "name": "stdout",
     "output_type": "stream",
     "text": [
      "1\n",
      "3\n",
      "5\n"
     ]
    }
   ],
   "source": [
    "# ======================= 8 kyu Keep Hydrated! ======================\n",
    "def litres(time):\n",
    "    # return time // 2\n",
    "    return int(time / 2)\n",
    "\n",
    "print(litres(3))\n",
    "print(litres(6.7))\n",
    "print(litres(11.8))\n",
    "\n",
    "\n",
    "\n",
    "\n",
    "\n",
    "\n",
    "#For example:\n",
    "#time = 3 ----> litres = 1\n",
    "\n",
    "#time = 6.7---> litres = 3\n",
    "\n",
    "#time = 11.8--> litres = 5\n"
   ]
  }
 ],
 "metadata": {
  "kernelspec": {
   "display_name": "Python 3",
   "language": "python",
   "name": "python3"
  },
  "language_info": {
   "codemirror_mode": {
    "name": "ipython",
    "version": 3
   },
   "file_extension": ".py",
   "mimetype": "text/x-python",
   "name": "python",
   "nbconvert_exporter": "python",
   "pygments_lexer": "ipython3",
   "version": "3.12.4"
  }
 },
 "nbformat": 4,
 "nbformat_minor": 2
}
