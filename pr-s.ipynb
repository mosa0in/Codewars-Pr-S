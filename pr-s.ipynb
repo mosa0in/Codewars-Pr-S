{
 "cells": [
  {
   "cell_type": "code",
   "execution_count": 1,
   "metadata": {},
   "outputs": [
    {
     "name": "stdout",
     "output_type": "stream",
     "text": [
      "battle no requires which that is victory greatest The\n",
      "battle no requires which that is victory greatest The\n"
     ]
    }
   ],
   "source": [
    "# ======================= 8 kyu Reversed Words ======================\n",
    "def reverse_words(s):\n",
    "    my_list = s.split(' ')\n",
    "    my_rev_list = my_list[::-1]\n",
    "    my_str_list = ' '.join(my_rev_list)\n",
    "    return my_str_list\n",
    "\n",
    "\n",
    "print(reverse_words(\"The greatest victory is that which requires no battle\"))\n",
    " \n",
    "# Example(Input --> Output):\n",
    "# \"The greatest victory is that which requires no battle\" --> \"battle no requires which that is victory greatest The\"\n",
    "\n",
    "def reverse_words(s):\n",
    "    return ' '.join(s.split()[::-1])\n",
    "\n",
    "print(reverse_words(\"The greatest victory is that which requires no battle\"))\n"
   ]
  },
  {
   "cell_type": "code",
   "execution_count": 2,
   "metadata": {},
   "outputs": [
    {
     "name": "stdout",
     "output_type": "stream",
     "text": [
      "1\n",
      "3\n",
      "5\n"
     ]
    }
   ],
   "source": [
    "# ======================= 8 kyu Keep Hydrated! ======================\n",
    "def litres(time):\n",
    "    # return time // 2\n",
    "    return int(time / 2)\n",
    "\n",
    "print(litres(3))\n",
    "print(litres(6.7))\n",
    "print(litres(11.8))\n",
    "\n",
    "\n",
    "\n",
    "\n",
    "\n",
    "\n",
    "#For example:\n",
    "#time = 3 ----> litres = 1\n",
    "\n",
    "#time = 6.7---> litres = 3\n",
    "\n",
    "#time = 11.8--> litres = 5\n"
   ]
  },
  {
   "cell_type": "code",
   "execution_count": null,
   "metadata": {},
   "outputs": [
    {
     "data": {
      "text/plain": [
       "['Mallard', 'Hook Bill', 'Crested', 'Blue Swedish']"
      ]
     },
     "execution_count": 3,
     "metadata": {},
     "output_type": "execute_result"
    }
   ],
   "source": [
    "# ======================= 8 kyu Filter out the Geese ======================\n",
    "geese = [\"African\", \"Roman Tufted\", \"Toulouse\", \"Pilgrim\", \"Steinbacher\"]\n",
    "def goose_filter(birds):\n",
    "    #your code here\n",
    "    for i in geese:\n",
    "        if i in birds:\n",
    "            birds.remove(i)\n",
    "    return birds \n",
    "\n",
    "goose_filter([\"Mallard\", \"Hook Bill\", \"African\", \"Crested\", \"Pilgrim\", \"Toulouse\", \"Blue Swedish\"])\n"
   ]
  },
  {
   "cell_type": "code",
   "execution_count": null,
   "metadata": {},
   "outputs": [
    {
     "name": "stdout",
     "output_type": "stream",
     "text": [
      "61000\n"
     ]
    }
   ],
   "source": [
    "# ======================= 8 kyu Beginner Series #2 Clock ======================\n",
    "def past(h, m, s):\n",
    "    # Good Luck!\n",
    "    return (h*3600 + m*60 + s)*1000\n",
    "print(past(0,1,1))"
   ]
  },
  {
   "cell_type": "code",
   "execution_count": 16,
   "metadata": {},
   "outputs": [
    {
     "name": "stdout",
     "output_type": "stream",
     "text": [
      "[-1, 1, 0]\n"
     ]
    }
   ],
   "source": [
    "# ======================= 8 kyu Invert Values ======================\n",
    "def invert(lst):\n",
    "    new_lst = lst[:]\n",
    "    for i in range(len(new_lst)):\n",
    "        if new_lst[i]  > 0:\n",
    "            new_lst[i] = -new_lst[i]\n",
    "        elif new_lst[i] < 0 :\n",
    "            new_lst[i] = -new_lst[i]\n",
    "        else :\n",
    "            new_lst[i] = 0\n",
    "    return new_lst\n",
    "print(invert([1,-1,0]))"
   ]
  },
  {
   "cell_type": "code",
   "execution_count": 19,
   "metadata": {},
   "outputs": [
    {
     "name": "stdout",
     "output_type": "stream",
     "text": [
      "iii\n"
     ]
    }
   ],
   "source": [
    "# ======================= 8 kyu String repeat ======================\n",
    "def repeat_str(repeat, string):\n",
    "    \n",
    "    return repeat * string\n",
    "print(repeat_str(3,'i'))"
   ]
  }
 ],
 "metadata": {
  "kernelspec": {
   "display_name": "Python 3",
   "language": "python",
   "name": "python3"
  },
  "language_info": {
   "codemirror_mode": {
    "name": "ipython",
    "version": 3
   },
   "file_extension": ".py",
   "mimetype": "text/x-python",
   "name": "python",
   "nbconvert_exporter": "python",
   "pygments_lexer": "ipython3",
   "version": "3.12.4"
  }
 },
 "nbformat": 4,
 "nbformat_minor": 2
}
